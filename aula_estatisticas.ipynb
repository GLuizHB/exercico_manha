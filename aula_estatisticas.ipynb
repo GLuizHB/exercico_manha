{
 "cells": [
  {
   "cell_type": "markdown",
   "metadata": {},
   "source": [
    "### Censo\n",
    "\n",
    "- Objetivo: O censo é uma pesquisa abrangente e universal que busca coletar informações sobre toda a população do país. Ele visa mapear aspectos demográficos, sociais e econômicos da população de forma detalhada.\n",
    "- Periodicidade: O censo é realizado a cada 10 anos. No Brasil, o Instituto Brasileiro de Geografia e Estatística (IBGE) é o responsável pela sua execução.\n",
    "- Cobertura: O censo busca alcançar todos os domicílios e indivíduos do território nacional. Não é uma amostra, mas sim uma contagem completa.\n",
    "- Conteúdo: Coleta uma grande variedade de dados, como número de habitantes, distribuição por idade, sexo, raça, nível educacional, condições de moradia, entre outros.\n",
    "- Importância: Os resultados do censo fornecem dados fundamentais para políticas públicas, planejamento urbano e pesquisas acadêmicas, além de ser a base para a distribuição de recursos federais e o cálculo de representantes políticos.\n",
    "\n",
    "\n",
    "### PNAD (Pesquisa Nacional por Amostra de Domicílios)\n",
    "\n",
    "- Objetivo: A PNAD é uma pesquisa amostral que busca coletar informações sobre características socioeconômicas da população, como emprego, rendimento, educação e condições de vida.\n",
    "- Periodicidade: A PNAD é realizada anualmente, com uma versão trimestral (PNAD Contínua) que coleta dados com mais frequência ao longo do ano.\n",
    "- Cobertura: Ao contrário do censo, a PNAD não cobre toda a população, mas sim uma amostra representativa. Os dados são extrapolados a partir desta amostra para estimar as características da população geral.\n",
    "- Conteúdo: Foca principalmente em aspectos relacionados ao mercado de trabalho, como taxa de desemprego, rendimentos, ocupações, e também inclui informações sobre educação e condições de vida.\n",
    "- Importância: A PNAD fornece dados atualizados sobre as condições econômicas e sociais da população, ajudando na análise de tendências e na formulação de políticas públicas de curto e médio prazo.\n",
    "\n",
    "##### Em resumo, o censo é uma contagem total e abrangente realizada a cada 10 anos, enquanto a PNAD é uma pesquisa amostral que coleta dados sobre aspectos socioeconômicos de forma mais frequente. Ambos são essenciais para a compreensão e o planejamento de políticas públicas, mas atendem a propósitos e necessidades diferentes."
   ]
  },
  {
   "cell_type": "markdown",
   "metadata": {},
   "source": [
    "### Estátistica Descritiva\n",
    "\n",
    "![https://www.grupoescolar.com/fotos/exemplo-estatistica-descritiva-A9.jpg](https://www.grupoescolar.com/fotos/exemplo-estatistica-descritiva-A9.jpg)\n",
    "\n",
    "- Popuação:\n",
    "    \n",
    "- Amostra:\n",
    "    tabela.\n"
   ]
  }
 ],
 "metadata": {
  "language_info": {
   "name": "python"
  }
 },
 "nbformat": 4,
 "nbformat_minor": 2
}
